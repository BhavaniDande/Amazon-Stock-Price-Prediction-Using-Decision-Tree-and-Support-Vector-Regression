{
  "nbformat": 4,
  "nbformat_minor": 0,
  "metadata": {
    "colab": {
      "provenance": [],
      "toc_visible": true
    },
    "kernelspec": {
      "name": "python3",
      "display_name": "Python 3"
    },
    "language_info": {
      "name": "python"
    }
  },
  "cells": [
    {
      "cell_type": "markdown",
      "source": [
        "Step-1: Starting by loading the data, converting the date column to datetime format, and selecting relevant features."
      ],
      "metadata": {
        "id": "HLlEeRWCeT3w"
      }
    },
    {
      "cell_type": "code",
      "execution_count": null,
      "metadata": {
        "colab": {
          "base_uri": "https://localhost:8080/",
          "height": 73
        },
        "id": "YS-lFCG1eFyv",
        "outputId": "330458d7-ad4e-4a38-d14b-48c2301fd52d"
      },
      "outputs": [
        {
          "output_type": "display_data",
          "data": {
            "text/plain": [
              "<IPython.core.display.HTML object>"
            ],
            "text/html": [
              "\n",
              "     <input type=\"file\" id=\"files-909df1e9-0fda-49f8-a5d5-9e5af0aef1b6\" name=\"files[]\" multiple disabled\n",
              "        style=\"border:none\" />\n",
              "     <output id=\"result-909df1e9-0fda-49f8-a5d5-9e5af0aef1b6\">\n",
              "      Upload widget is only available when the cell has been executed in the\n",
              "      current browser session. Please rerun this cell to enable.\n",
              "      </output>\n",
              "      <script>// Copyright 2017 Google LLC\n",
              "//\n",
              "// Licensed under the Apache License, Version 2.0 (the \"License\");\n",
              "// you may not use this file except in compliance with the License.\n",
              "// You may obtain a copy of the License at\n",
              "//\n",
              "//      http://www.apache.org/licenses/LICENSE-2.0\n",
              "//\n",
              "// Unless required by applicable law or agreed to in writing, software\n",
              "// distributed under the License is distributed on an \"AS IS\" BASIS,\n",
              "// WITHOUT WARRANTIES OR CONDITIONS OF ANY KIND, either express or implied.\n",
              "// See the License for the specific language governing permissions and\n",
              "// limitations under the License.\n",
              "\n",
              "/**\n",
              " * @fileoverview Helpers for google.colab Python module.\n",
              " */\n",
              "(function(scope) {\n",
              "function span(text, styleAttributes = {}) {\n",
              "  const element = document.createElement('span');\n",
              "  element.textContent = text;\n",
              "  for (const key of Object.keys(styleAttributes)) {\n",
              "    element.style[key] = styleAttributes[key];\n",
              "  }\n",
              "  return element;\n",
              "}\n",
              "\n",
              "// Max number of bytes which will be uploaded at a time.\n",
              "const MAX_PAYLOAD_SIZE = 100 * 1024;\n",
              "\n",
              "function _uploadFiles(inputId, outputId) {\n",
              "  const steps = uploadFilesStep(inputId, outputId);\n",
              "  const outputElement = document.getElementById(outputId);\n",
              "  // Cache steps on the outputElement to make it available for the next call\n",
              "  // to uploadFilesContinue from Python.\n",
              "  outputElement.steps = steps;\n",
              "\n",
              "  return _uploadFilesContinue(outputId);\n",
              "}\n",
              "\n",
              "// This is roughly an async generator (not supported in the browser yet),\n",
              "// where there are multiple asynchronous steps and the Python side is going\n",
              "// to poll for completion of each step.\n",
              "// This uses a Promise to block the python side on completion of each step,\n",
              "// then passes the result of the previous step as the input to the next step.\n",
              "function _uploadFilesContinue(outputId) {\n",
              "  const outputElement = document.getElementById(outputId);\n",
              "  const steps = outputElement.steps;\n",
              "\n",
              "  const next = steps.next(outputElement.lastPromiseValue);\n",
              "  return Promise.resolve(next.value.promise).then((value) => {\n",
              "    // Cache the last promise value to make it available to the next\n",
              "    // step of the generator.\n",
              "    outputElement.lastPromiseValue = value;\n",
              "    return next.value.response;\n",
              "  });\n",
              "}\n",
              "\n",
              "/**\n",
              " * Generator function which is called between each async step of the upload\n",
              " * process.\n",
              " * @param {string} inputId Element ID of the input file picker element.\n",
              " * @param {string} outputId Element ID of the output display.\n",
              " * @return {!Iterable<!Object>} Iterable of next steps.\n",
              " */\n",
              "function* uploadFilesStep(inputId, outputId) {\n",
              "  const inputElement = document.getElementById(inputId);\n",
              "  inputElement.disabled = false;\n",
              "\n",
              "  const outputElement = document.getElementById(outputId);\n",
              "  outputElement.innerHTML = '';\n",
              "\n",
              "  const pickedPromise = new Promise((resolve) => {\n",
              "    inputElement.addEventListener('change', (e) => {\n",
              "      resolve(e.target.files);\n",
              "    });\n",
              "  });\n",
              "\n",
              "  const cancel = document.createElement('button');\n",
              "  inputElement.parentElement.appendChild(cancel);\n",
              "  cancel.textContent = 'Cancel upload';\n",
              "  const cancelPromise = new Promise((resolve) => {\n",
              "    cancel.onclick = () => {\n",
              "      resolve(null);\n",
              "    };\n",
              "  });\n",
              "\n",
              "  // Wait for the user to pick the files.\n",
              "  const files = yield {\n",
              "    promise: Promise.race([pickedPromise, cancelPromise]),\n",
              "    response: {\n",
              "      action: 'starting',\n",
              "    }\n",
              "  };\n",
              "\n",
              "  cancel.remove();\n",
              "\n",
              "  // Disable the input element since further picks are not allowed.\n",
              "  inputElement.disabled = true;\n",
              "\n",
              "  if (!files) {\n",
              "    return {\n",
              "      response: {\n",
              "        action: 'complete',\n",
              "      }\n",
              "    };\n",
              "  }\n",
              "\n",
              "  for (const file of files) {\n",
              "    const li = document.createElement('li');\n",
              "    li.append(span(file.name, {fontWeight: 'bold'}));\n",
              "    li.append(span(\n",
              "        `(${file.type || 'n/a'}) - ${file.size} bytes, ` +\n",
              "        `last modified: ${\n",
              "            file.lastModifiedDate ? file.lastModifiedDate.toLocaleDateString() :\n",
              "                                    'n/a'} - `));\n",
              "    const percent = span('0% done');\n",
              "    li.appendChild(percent);\n",
              "\n",
              "    outputElement.appendChild(li);\n",
              "\n",
              "    const fileDataPromise = new Promise((resolve) => {\n",
              "      const reader = new FileReader();\n",
              "      reader.onload = (e) => {\n",
              "        resolve(e.target.result);\n",
              "      };\n",
              "      reader.readAsArrayBuffer(file);\n",
              "    });\n",
              "    // Wait for the data to be ready.\n",
              "    let fileData = yield {\n",
              "      promise: fileDataPromise,\n",
              "      response: {\n",
              "        action: 'continue',\n",
              "      }\n",
              "    };\n",
              "\n",
              "    // Use a chunked sending to avoid message size limits. See b/62115660.\n",
              "    let position = 0;\n",
              "    do {\n",
              "      const length = Math.min(fileData.byteLength - position, MAX_PAYLOAD_SIZE);\n",
              "      const chunk = new Uint8Array(fileData, position, length);\n",
              "      position += length;\n",
              "\n",
              "      const base64 = btoa(String.fromCharCode.apply(null, chunk));\n",
              "      yield {\n",
              "        response: {\n",
              "          action: 'append',\n",
              "          file: file.name,\n",
              "          data: base64,\n",
              "        },\n",
              "      };\n",
              "\n",
              "      let percentDone = fileData.byteLength === 0 ?\n",
              "          100 :\n",
              "          Math.round((position / fileData.byteLength) * 100);\n",
              "      percent.textContent = `${percentDone}% done`;\n",
              "\n",
              "    } while (position < fileData.byteLength);\n",
              "  }\n",
              "\n",
              "  // All done.\n",
              "  yield {\n",
              "    response: {\n",
              "      action: 'complete',\n",
              "    }\n",
              "  };\n",
              "}\n",
              "\n",
              "scope.google = scope.google || {};\n",
              "scope.google.colab = scope.google.colab || {};\n",
              "scope.google.colab._files = {\n",
              "  _uploadFiles,\n",
              "  _uploadFilesContinue,\n",
              "};\n",
              "})(self);\n",
              "</script> "
            ]
          },
          "metadata": {}
        },
        {
          "output_type": "stream",
          "name": "stdout",
          "text": [
            "Saving Amazon.csv to Amazon.csv\n"
          ]
        }
      ],
      "source": [
        "# Import necessary libraries\n",
        "import pandas as pd\n",
        "import numpy as np\n",
        "from sklearn.model_selection import train_test_split\n",
        "from sklearn.preprocessing import StandardScaler\n",
        "from sklearn.tree import DecisionTreeRegressor\n",
        "from sklearn.svm import SVR\n",
        "from sklearn.metrics import mean_squared_error, r2_score\n",
        "\n",
        "# Load the dataset\n",
        "from google.colab import files\n",
        "uploaded = files.upload()\n",
        "\n",
        "# Load the dataset into a pandas DataFrame\n",
        "amazon_data_new = pd.read_csv('Amazon.csv')\n",
        "\n",
        "# Convert the 'Date' column to datetime\n",
        "amazon_data_new['Date'] = pd.to_datetime(amazon_data_new['Date'])\n",
        "\n",
        "# Select relevant features for the regression model\n",
        "# using 'Open', 'High', 'Low', 'Volume' as features to predict 'Close' price\n",
        "features = ['Open', 'High', 'Low', 'Volume']\n",
        "target = 'Close'\n",
        "X_new = amazon_data_new[features]\n",
        "y_new = amazon_data_new[target]"
      ]
    },
    {
      "cell_type": "markdown",
      "source": [
        "Step 2: Split the Data into Training and Test Sets\n"
      ],
      "metadata": {
        "id": "akzExn30fdf9"
      }
    },
    {
      "cell_type": "code",
      "source": [
        "X_train_new, X_test_new, y_train_new, y_test_new = train_test_split(X_new, y_new, test_size=0.3, random_state=42)"
      ],
      "metadata": {
        "id": "D-R279ozff4w"
      },
      "execution_count": null,
      "outputs": []
    },
    {
      "cell_type": "markdown",
      "source": [
        "Step 3: Scale the Data for SVR Model, Support Vector Regression requires feature scaling, so we apply StandardScaler to the features."
      ],
      "metadata": {
        "id": "eUU0UNi3fqkp"
      }
    },
    {
      "cell_type": "code",
      "source": [
        "scaler_new = StandardScaler()\n",
        "X_train_scaled_new = scaler_new.fit_transform(X_train_new)\n",
        "X_test_scaled_new = scaler_new.transform(X_test_new)"
      ],
      "metadata": {
        "id": "09l1DjkMfzji"
      },
      "execution_count": null,
      "outputs": []
    },
    {
      "cell_type": "markdown",
      "source": [
        "Step 4 :We now train the Decision Tree Regressor model using the unscaled data.\n"
      ],
      "metadata": {
        "id": "P5LNENEnf9ru"
      }
    },
    {
      "cell_type": "code",
      "source": [
        "decision_tree_model_new = DecisionTreeRegressor(random_state=42)\n",
        "decision_tree_model_new.fit(X_train_new, y_train_new)\n",
        "\n",
        "# Predict the target variable using the test set\n",
        "y_pred_dt_new = decision_tree_model_new.predict(X_test_new)"
      ],
      "metadata": {
        "id": "Pd0-4d7ogFM-"
      },
      "execution_count": null,
      "outputs": []
    },
    {
      "cell_type": "markdown",
      "source": [
        "Step 5: we train the Support Vector Regression model using the scaled data."
      ],
      "metadata": {
        "id": "svBWcUpfgRkH"
      }
    },
    {
      "cell_type": "code",
      "source": [
        "svr_model_new = SVR(kernel='rbf')\n",
        "svr_model_new.fit(X_train_scaled_new, y_train_new)\n",
        "\n",
        "# Predictions for SVR\n",
        "y_pred_svr_new = svr_model_new.predict(X_test_scaled_new)"
      ],
      "metadata": {
        "id": "rFdyABiKgQ-q"
      },
      "execution_count": null,
      "outputs": []
    },
    {
      "cell_type": "markdown",
      "source": [
        "Step 6: Evaluate both models using Mean Squared Error (MSE) and R-squared metrics to understand their performance."
      ],
      "metadata": {
        "id": "HqHvQvkKgkxL"
      }
    },
    {
      "cell_type": "code",
      "source": [
        "mse_dt_new = mean_squared_error(y_test_new, y_pred_dt_new)\n",
        "r2_dt_new = r2_score(y_test_new, y_pred_dt_new)\n",
        "\n",
        "mse_svr_new = mean_squared_error(y_test_new, y_pred_svr_new)\n",
        "r2_svr_new = r2_score(y_test_new, y_pred_svr_new)"
      ],
      "metadata": {
        "id": "enLnlsIkgqVA"
      },
      "execution_count": null,
      "outputs": []
    },
    {
      "cell_type": "markdown",
      "source": [
        "Step 7: Define a function to calculate \"accuracy\" based on predictions within a certain percentage range"
      ],
      "metadata": {
        "id": "yqCxpSATg7R5"
      }
    },
    {
      "cell_type": "code",
      "source": [
        "def calculate_accuracy(y_true, y_pred, tolerance=0.05):\n",
        "    # Calculate the absolute percentage error\n",
        "    percentage_error = np.abs((y_true - y_pred) / y_true)\n",
        "    # Check how many predictions fall within the tolerance range (5% in this case)\n",
        "    accuracy = np.mean(percentage_error <= tolerance)\n",
        "    return accuracy * 100  # Convert to percentage\n",
        "\n",
        "# Calculate accuracy for Decision Tree model (within 5% tolerance)\n",
        "accuracy_dt_new = calculate_accuracy(y_test_new, y_pred_dt_new)\n",
        "\n",
        "# Calculate accuracy for SVR model (within 5% tolerance)\n",
        "accuracy_svr_new = calculate_accuracy(y_test_new, y_pred_svr_new)"
      ],
      "metadata": {
        "id": "FWAK5zlSg4Yb"
      },
      "execution_count": null,
      "outputs": []
    },
    {
      "cell_type": "markdown",
      "source": [
        "Output Results"
      ],
      "metadata": {
        "id": "-W7ze0lthZSH"
      }
    },
    {
      "cell_type": "code",
      "source": [
        "# Display updated evaluation results with \"range-based accuracy\"\n",
        "evaluation_results_new = {\n",
        "    \"Model\": [\"Decision Tree\", \"SVR\"],\n",
        "    \"MSE\": [mse_dt_new, mse_svr_new],\n",
        "    \"R-Squared\": [r2_dt_new, r2_svr_new],\n",
        "    \"Accuracy (±5%)\": [accuracy_dt_new, accuracy_svr_new]\n",
        "}\n",
        "\n",
        "# Convert to DataFrame for better display\n",
        "evaluation_df_new = pd.DataFrame(evaluation_results_new)\n",
        "print(evaluation_df_new)"
      ],
      "metadata": {
        "colab": {
          "base_uri": "https://localhost:8080/"
        },
        "id": "s0q_pO9lhUxC",
        "outputId": "c089daad-893b-4041-f4cd-72c719026921"
      },
      "execution_count": null,
      "outputs": [
        {
          "output_type": "stream",
          "name": "stdout",
          "text": [
            "           Model            MSE  R-Squared  Accuracy (±5%)\n",
            "0  Decision Tree     155.840206   0.999778       95.289659\n",
            "1            SVR  337457.989275   0.519191       21.981592\n"
          ]
        }
      ]
    }
  ]
}